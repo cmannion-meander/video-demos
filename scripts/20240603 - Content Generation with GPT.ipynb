{
 "cells": [
  {
   "cell_type": "markdown",
   "id": "55955fc9",
   "metadata": {},
   "source": [
    "# How to Use AI in Content Marketing"
   ]
  },
  {
   "cell_type": "markdown",
   "id": "9a73fea9",
   "metadata": {},
   "source": [
    "## Step 1: Load your AI models"
   ]
  },
  {
   "cell_type": "code",
   "execution_count": 36,
   "id": "2f8356e6",
   "metadata": {},
   "outputs": [],
   "source": [
    "# Load the packages\n",
    "import markdown2\n",
    "import numpy as np\n",
    "import openai\n",
    "import os\n",
    "import pandas as pd\n",
    "import webbrowser\n",
    "\n",
    "import src.helpers as helpers\n",
    "\n",
    "from datetime import datetime"
   ]
  },
  {
   "cell_type": "code",
   "execution_count": 2,
   "id": "d36b0c1a",
   "metadata": {},
   "outputs": [],
   "source": [
    "# Load Open AI API Key\n",
    "OPENAI_API_KEY = os.environ.get(\"OPENAI_API_KEY\")\n",
    "\n",
    "# API configuration\n",
    "OPENAI_ENDPOINT = os.environ.get(\"OPENAI_ENDPOINT\")\n",
    "\n",
    "client = openai.OpenAI(\n",
    "        api_key=OPENAI_API_KEY\n",
    "    )"
   ]
  },
  {
   "cell_type": "code",
   "execution_count": 3,
   "id": "83a541e9",
   "metadata": {},
   "outputs": [],
   "source": [
    "def get_completion_four(prompt, model=\"gpt-4o\"):\n",
    "    response = client.chat.completions.create(\n",
    "        model=\"gpt-4o\",\n",
    "        messages=[\n",
    "            {\n",
    "                \"role\": \"system\",\n",
    "                \"content\": \"You are a highly intelligent AI skilled in parsing and summarizing content, identifying main themes and stylistic approaches.\"\n",
    "            },\n",
    "            {\n",
    "                \"role\": \"user\",\n",
    "                \"content\": prompt\n",
    "            }\n",
    "        ],\n",
    "    )\n",
    "\n",
    "    # Parsing the response to extract the theme and style\n",
    "    response_text = response.choices[0].message.content\n",
    "\n",
    "    return (response_text)"
   ]
  },
  {
   "cell_type": "code",
   "execution_count": 4,
   "id": "e3052378",
   "metadata": {},
   "outputs": [],
   "source": [
    "def get_completion(prompt, model=\"gpt-3.5-turbo\"):\n",
    "    response = client.chat.completions.create(\n",
    "        model=\"gpt-3.5-turbo\",\n",
    "        messages=[\n",
    "            {\n",
    "                \"role\": \"system\",\n",
    "                \"content\": \"You are a highly intelligent AI skilled in parsing and summarizing content, identifying main themes and stylistic approaches.\"\n",
    "            },\n",
    "            {\n",
    "                \"role\": \"user\",\n",
    "                \"content\": prompt\n",
    "            }\n",
    "        ],\n",
    "    )\n",
    "\n",
    "    # Parsing the response to extract the theme and style\n",
    "    response_text = response.choices[0].message.content\n",
    "\n",
    "    return (response_text)"
   ]
  },
  {
   "cell_type": "code",
   "execution_count": 5,
   "id": "43ca3d3b",
   "metadata": {},
   "outputs": [
    {
     "name": "stdout",
     "output_type": "stream",
     "text": [
      "1. **Automating Content Generation**: AI can create content such as articles, reports, and product descriptions by analyzing data and generating human-like text efficiently.\n",
      "\n",
      "2. **Personalizing Content**: AI can analyze user data and behavior to personalize content, making it more engaging and relevant to individual users.\n",
      "\n",
      "3. **Content Curation**: AI can sift through vast amounts of data to identify trending topics, recommend related content, and curate information that is most likely to be engaging for a specific audience.\n",
      "\n",
      "4. **Optimizing SEO**: AI tools can analyze keywords, analyze search trends, and suggest SEO-friendly content strategies to improve search engine rankings and attract more traffic.\n",
      "\n",
      "5. **Content Editing and Proofreading**: AI-powered tools can help writers in editing and proofreading content by identifying grammar errors, suggesting improvements in writing style, and ensuring consistency in tone and language.\n"
     ]
    }
   ],
   "source": [
    "test_prompt = \"\"\"\n",
    "List 5 ways that AI can help with content creation.\n",
    "\"\"\"\n",
    "test = get_completion(test_prompt)\n",
    "print(test)"
   ]
  },
  {
   "cell_type": "markdown",
   "id": "8ac2c6b0",
   "metadata": {},
   "source": [
    "## Step 2: Analyze your source text"
   ]
  },
  {
   "cell_type": "code",
   "execution_count": 13,
   "id": "a7d9a59f",
   "metadata": {},
   "outputs": [
    {
     "name": "stdout",
     "output_type": "stream",
     "text": [
      "1\n",
      "Prompting\n",
      "guide 101\n",
      "April 2024 edition\n",
      "A quick-start \n",
      "handbook for \n",
      "effective prompts\n",
      "2\n",
      "Writing effective prompts \n",
      "From the very beginning, Google Workspace was built to allow you to collaborate in real time with other people. \n",
      "Now, you can also collaborate with AI using Gemini for Google Workspace to help boost your productivity and \n",
      "creativity without sacrificing privacy or security. The embedded generative AI-powered features can help you \n",
      "write, organize, visualize, accelerate workflows, h\n"
     ]
    }
   ],
   "source": [
    "## Load source text\n",
    "\n",
    "file_path = '../data/gemini-for-google-workspace-prompting-guide-101.pdf'  # Replace with your file path\n",
    "\n",
    "### Read Text File\n",
    "# content = read_text_file(file_path)\n",
    "\n",
    "### Read PDF File\n",
    "content = helpers.read_pdf(file_path)\n",
    "\n",
    "print(content[:500])"
   ]
  },
  {
   "cell_type": "code",
   "execution_count": 11,
   "id": "1e572aa3",
   "metadata": {},
   "outputs": [],
   "source": [
    "summary_prompt = f\"\"\"\n",
    "You are a HRTech market analyst who is summarizing walkthroughs.\n",
    "\n",
    "Read through the transcript below and summarize the steps discussed.\n",
    "\n",
    "Your objective is to delve into a specific tactic or strategy, providing readers with actionable insights and practical advice that they can implement in their own projects or businesses.\n",
    "\n",
    "Offer a detailed exploration of the tactic or strategy. Use subheadings to organize the content into key components or steps.\n",
    "\n",
    "```{content}```\n",
    "\n",
    "\"\"\""
   ]
  },
  {
   "cell_type": "code",
   "execution_count": 12,
   "id": "b1048442",
   "metadata": {},
   "outputs": [
    {
     "name": "stdout",
     "output_type": "stream",
     "text": [
      "### Summary:\n",
      "\n",
      "#### Writing Effective Prompts:\n",
      "- **Persona, Task, Context, Format**: Writing effective prompts involves considering these four key areas: Persona, Task, Context, and Format.\n",
      "- **Example Prompt**: A prompt example for Gmail and Google Docs is provided, highlighting the importance of natural language, specificity, conciseness, and making it a conversation with the AI-powered assistant.\n",
      "  \n",
      "#### Prompting is an Art:\n",
      "- **Trial and Error**: Highlighted the need for experimentation and iteration in creating effective prompts, noting that successful prompts average around 21 words.\n",
      "- **Clarity and Review**: Emphasized the importance of reviewing AI-generated outputs for clarity, relevance, and accuracy before implementation.\n",
      "\n",
      "#### Table of Contents:\n",
      "- **Segmented Topics**: The walkthrough provides detailed use cases for various roles such as Customer Service, Executives, Human Resources, Marketing, Project Management, and Sales, offering practical prompts for everyday tasks and professional interactions.\n",
      "  \n",
      "#### Introduction to Gemini for Google Workspace:\n",
      "- **Gemini Features**: Explored various features like using natural language, creating original content, summarizing information, and fostering meaningful connections with colleagues.\n",
      "- **Quick-Start Guide**: Provided instructions on how to access and utilize generative AI features seamlessly integrated into daily workspace apps.\n",
      "\n",
      "#### Leveling up Your Prompt Writing:\n",
      "- **Advanced Strategies**: Offered tips to enhance prompt-writing skills by breaking tasks into smaller prompts, providing specific constraints, assigning roles, seeking feedback, considering tone, and refining prompts iteratively.\n",
      "\n",
      "#### Concluding Messages:\n",
      "- **Generative AI Usage**: Encouraged users to review AI-generated outputs for accuracy and relevance, reminding that while AI assistance is valuable, the final output remains the responsibility of the user.\n",
      "- **Stay Updated**: Directed users to workspace.google.com and workspace.google.com/blog for the latest updates.\n",
      "\n",
      "### Actionable Insights:\n",
      "\n",
      "1. **Persona-Centric Prompts**: Tailor prompts to address specific personas and tasks, emphasizing clarity and relevance in communication.\n",
      "2. **Iterative Review**: Continuously refine prompts based on results and feedback to optimize AI assistance.\n",
      "3. **Contextual Clarity**: Ensure prompts are detailed, concise, and offer relevant context to the AI assistant for accurate outputs.\n",
      "4. **Diverse Applications**: Explore a variety of prompt styles for different use cases across roles like Customer Service, Marketing, and Project Management for comprehensive AI utilization.\n",
      "\n",
      "\n",
      "\n",
      "\n"
     ]
    }
   ],
   "source": [
    "summary = get_completion(summary_prompt)\n",
    "print(summary)"
   ]
  },
  {
   "cell_type": "markdown",
   "id": "e6d90675",
   "metadata": {},
   "source": [
    "## Step 3: Draft and Outline Blog Post"
   ]
  },
  {
   "cell_type": "code",
   "execution_count": 14,
   "id": "634e3aa9",
   "metadata": {},
   "outputs": [],
   "source": [
    "### Set the theme of the blog post and SEO keywords\n",
    "\n",
    "point_of_view = \"Everyone should learn prompt engineering.\"\n",
    "\n",
    "seo_keywords = [\n",
    "    \"how to write a good prompt for genai\",\n",
    "    \"what are genai examples\",\n",
    "    \"what is an example of bad ai prompt\",\n",
    "    \"how do you write an effective writing prompt\"\n",
    "]"
   ]
  },
  {
   "cell_type": "code",
   "execution_count": 18,
   "id": "ce55c6f2",
   "metadata": {},
   "outputs": [],
   "source": [
    "blog_outline_prompt = f\"\"\"\n",
    "You are an experienced digital marketing consultant who specializes in newsletter content creation.\n",
    "\n",
    "Your job is to write compelling content for a blog that covers innovation. Focus on:\n",
    "1. Headline: Every great blog post starts with a headline that grabs the reader's attention, and compels them to click and keep reading to learn more.\n",
    "2. Introduction: The introduction needs to quickly hook your reader and convince her to read the rest of your blog post.\n",
    "3. Sub-Headers: Sub-headers are another on-page SEO element that helps your blog post to rank in Google Search. Sub-headers organize and break up your blog post into different sections to signal to Google (and your reader) what the post will cover.\n",
    "4. Body: The meat of your blog post -- separated by various sub-headers, of course -- is where your readers will undoubtedly derive the most value. You have the freedom to draft compelling content for the body of your blog post using your own creativity and the summarized content below.\n",
    "5. Data: Whenever it's possible to use data and numbers, do so. Numbers written as numerals (23) instead of words (twenty-three) have been shown to attract reader attention when they quickly scan what they're reading online. Additionally, numbers represent facts -- which are unimpeachable and most trusted by your readers.\n",
    "6. Multimedia Elements: Wherever it's possible to use multimedia content to break up the blog post and re-engage your reader, recommend images, videos, audio recordings, and social media posts.\n",
    "7. Conclusion: When you're ready to wrap up and sign off, make sure to let your reader know the article is closing. Your conclusion doesn't need to be lengthy, but it should serve to recap the blog post the reader just finished and provide more resources and guidance, if wanted.\n",
    "8. CTA: Finish your conclusion with a meaningful call to action (CTA) for your reader -- whether it's advice, a content offer, or a link to another related blog post. Use the last lines of your post to leave the reader feeling like he or she learned something from you -- and like there's, even more, to learn from you, creating the desire to click a link or CTA image and read more.\n",
    "\n",
    "You are tasked with writing a new blog post to convey the following point of view: \n",
    "```{point_of_view}```\n",
    "\n",
    "Your blog post should rank highly for the following keywords: \n",
    "```{seo_keywords}```\n",
    "\n",
    "Write a blog post using the following summary notes:\n",
    "```{summary}```\n",
    "\"\"\""
   ]
  },
  {
   "cell_type": "code",
   "execution_count": 20,
   "id": "a443e837",
   "metadata": {},
   "outputs": [
    {
     "name": "stdout",
     "output_type": "stream",
     "text": [
      "# Unlocking the Future: Why Everyone Should Learn Prompt Engineering\n",
      "\n",
      "## Introduction\n",
      "Imagine having a superpower that allows you to communicate with advanced AI systems like Google’s Gemini, enabling you to automate tasks, generate compelling content, and make data-driven decisions effortlessly. That's the magic of prompt engineering. Mastering this skill not only amplifies your productivity but also sets you apart in an increasingly competitive digital era. Whether you’re a marketer, project manager, or customer service representative, knowing how to craft effective prompts is a game-changer.\n",
      "\n",
      "## The Art and Science of Writing Effective Prompts\n",
      "\n",
      "### Persona, Task, Context, Format\n",
      "To write an effective prompt, you need to consider four crucial elements: Persona, Task, Context, and Format. Let's break this down:\n",
      "- **Persona**: Who is the AI acting as? Is it a customer service agent, a project manager, or an HR professional?\n",
      "- **Task**: What specific task do you want the AI to perform? Is it creating a blog post, summarizing a report, or responding to a customer query?\n",
      "- **Context**: What is the background information the AI needs? Provide enough detail so the AI can make informed decisions.\n",
      "- **Format**: How should the output be presented? Be clear about whether you want a list, essay, bulleted points, etc.\n",
      "\n",
      "#### Example Prompt\n",
      "\"Act as a marketing expert and create a detailed blog post outline about the newest features of Gmail and Google Docs. The outline should include an introduction, a comprehensive list of features, their benefits, and a conclusion. Keep it engaging, informative, and concise.\"\n",
      "\n",
      "### Trial and Error: A Path to Perfection\n",
      "Prompting isn’t a one-size-fits-all; it’s an iterative process. On average, successful prompts contain about 21 words. Don’t be afraid to tinker with your wording. The initial attempts might not be perfect, but through trial and error, you can refine prompts to yield the desired AI-generated outputs.\n",
      "\n",
      "### Clarity and Review\n",
      "Before deploying AI-generated content, review it for clarity, relevance, and accuracy. While AI is powerful, human oversight ensures that the results align with your objectives. \n",
      "\n",
      "## Leveraging AI Across Varied Roles\n",
      "\n",
      "### Customer Service\n",
      "- **Example Prompt**: \"As a customer service agent, draft a polite and concise response addressing a customer's complaint about delayed delivery, including an apology and assurance of expedited future service.\"\n",
      "  \n",
      "### Executives\n",
      "- **Example Prompt**: \"Imagine you are a CEO, write a speech for the annual company meeting that details this year's achievements, acknowledges team efforts, and outlines next year's goals.\"\n",
      "\n",
      "### Human Resources\n",
      "- **Example Prompt**: \"Compose an internal email from the HR department announcing a new employee wellness program, outlining its benefits, and encouraging staff participation.\"\n",
      "\n",
      "### Marketing\n",
      "- **Example Prompt**: \"Generate a creative and engaging social media post promoting our new product launch, highlighting its unique features, and including a call to action.\"\n",
      "\n",
      "### Project Management\n",
      "- **Example Prompt**: \"Summarize the key milestones and next steps for the upcoming project review meeting, focusing on timelines and deliverables.\"\n",
      "\n",
      "## Introduction to Gemini for Google Workspace\n",
      "\n",
      "### Gemini Features\n",
      "Gemini by Google Workspace revolutionizes how we interact with daily workspace apps. It enables users to:\n",
      "- Use natural language to command tasks\n",
      "- Create original content effortlessly\n",
      "- Summarize lengthy documents in seconds\n",
      "- Foster meaningful connections with colleagues through AI-driven insights\n",
      "\n",
      "### Quick-Start Guide\n",
      "Accessing Gemini is straightforward. Navigate to your Google Workspace, find the Gemini prompt feature, and start integrating it into your daily tasks. Familiarize yourself with its capabilities to maximize your productivity.\n",
      "\n",
      "## Leveling Up Your Prompt Writing\n",
      "\n",
      "### Advanced Strategies\n",
      "1. **Break Tasks into Smaller Prompts**: Simplify complex tasks by segmenting them into smaller, manageable prompts.\n",
      "2. **Provide Specific Constraints**: Guide the AI by setting clear boundaries and requirements for the task.\n",
      "3. **Assign Roles**: Specify who the AI should emulate – be it an expert, a manager, or even a peer.\n",
      "4. **Seek Feedback**: Use the AI's responses to tweak your prompts continuously.\n",
      "5. **Consider Tone**: Adjust the tone based on your audience – formal, informal, or neutral.\n",
      "6. **Iterative Refinement**: Keep refining the prompts until the AI output aligns with your expectations.\n",
      "\n",
      "## Conclusion\n",
      "Mastering prompt engineering is not just a valuable skill; it's an essential one in today’s AI-driven world. As you discover the nuances of crafting effective prompts, you’ll find that the benefits are manifold – from increased productivity to enhanced creativity and better decision-making.\n",
      "\n",
      "## Call to Action\n",
      "Feel empowered to start your journey in prompt engineering today. Visit [workspace.google.com](https://workspace.google.com) and [workspace.google.com/blog](https://workspace.google.com/blog) for more tips, updates, and resources. Dive deeper, experiment with prompts, and witness the transformation in your professional and personal endeavors. Remember, the future belongs to those who can communicate effectively with AI. It's time to unlock your potential.\n",
      "\n",
      "---\n",
      "\n",
      "Incorporate these elements to make your blog post not just informative but also engaging and actionable, ensuring readers are inspired to delve into the art of prompt engineering themselves.\n"
     ]
    }
   ],
   "source": [
    "outline = get_completion(blog_outline_prompt)\n",
    "print(outline)"
   ]
  },
  {
   "cell_type": "markdown",
   "id": "ef352a85",
   "metadata": {},
   "source": [
    "## Step 4: Create Content Ideas for LinkedIn Content"
   ]
  },
  {
   "cell_type": "code",
   "execution_count": 21,
   "id": "ce6e24d9",
   "metadata": {},
   "outputs": [],
   "source": [
    "li_outline = f\"\"\"\n",
    "You are an experienced social media content creator who has extensive knowledge of the HR Technology space.\n",
    "\n",
    "You are writing content to be shared on LinkedIn. The goal of this content is to create awareness and engagement.\n",
    "\n",
    "Ultimately, we aim to learn what challenges potential customers are facing so we can build services and solutions to solve them.\n",
    "\n",
    "Each week, we write 7 different content pieces on a topic, then schedule the content to be posted online. Here are the 7 themes with examples:\n",
    "\n",
    "Step-by-Step Guide\n",
    "How can people accomplish something with a clear, actionable process?\n",
    "\n",
    "Inspirational Story\n",
    "Share a story or anecdote that motivates people to take action.\n",
    "\n",
    "Deep Dive Analysis\n",
    "Provide an in-depth examination of a company, person, or trend.\n",
    "\n",
    "Insightful Observation\n",
    "Discuss an interesting observation or trend you've noticed.\n",
    "\n",
    "Challenging the Norm\n",
    "Present a viewpoint that goes against the common beliefs or practices.\n",
    "\n",
    "Comparative Analysis\n",
    "Contrast two situations to highlight key differences and insights.\n",
    "\n",
    "Current vs. Future State\n",
    "Discuss how things operate today and your vision for the future.\n",
    "\n",
    "Your task is to use the draft newsletter article to map a topic to each of these 7 themes, then describe the key message in 1 sentence.\n",
    "\n",
    "Here is the draft newsletter:\n",
    "```{outline}```\n",
    "\"\"\""
   ]
  },
  {
   "cell_type": "code",
   "execution_count": 22,
   "id": "48626c25",
   "metadata": {},
   "outputs": [
    {
     "name": "stdout",
     "output_type": "stream",
     "text": [
      "### Step-by-Step Guide\n",
      "**Topic: Introduction to Gemini for Google Workspace**\n",
      "\n",
      "**Key Message:** Learn how to navigate Gemini within Google Workspace to revolutionize your workflow and enhance productivity effortlessly.\n",
      "\n",
      "### Inspirational Story\n",
      "**Topic: The Art and Science of Writing Effective Prompts**\n",
      "\n",
      "**Key Message:** Unleash your creativity by understanding the persona, task, context, and format needed to craft compelling prompts that drive AI-generated success.\n",
      "\n",
      "### Deep Dive Analysis\n",
      "**Topic: Leveraging AI Across Varied Roles**\n",
      "\n",
      "**Key Message:** Discover how different roles, from customer service to marketing, can optimize their tasks through effective prompt engineering tailored to their specific requirements.\n",
      "\n",
      "### Insightful Observation\n",
      "**Topic: Trial and Error: A Path to Perfection**\n",
      "\n",
      "**Key Message:** Embrace the iterative nature of prompt engineering, where refinement through trial and error leads to the generation of impactful AI-driven content.\n",
      "\n",
      "### Challenging the Norm\n",
      "**Topic: Leveling Up Your Prompt Writing**\n",
      "\n",
      "**Key Message:** Challenge traditional writing methods by adopting advanced prompt engineering strategies that involve role assignments, feedback incorporation, and iterative refinement for optimal results.\n",
      "\n",
      "### Comparative Analysis\n",
      "**Topic: Introduction vs. Conclusion – The Evolution of Prompt Engineering**\n",
      "\n",
      "**Key Message:** Contrasting the introductory insights with the concluding benefits of prompt engineering showcases the transformative power this skill holds in the AI-driven landscape.\n",
      "\n",
      "### Current vs. Future State\n",
      "**Topic: Why Everyone Should Learn Prompt Engineering**\n",
      "\n",
      "**Key Message:** Explore the current necessity and future potential of prompt engineering in enhancing productivity, creativity, and decision-making in the rapidly evolving digital era.\n"
     ]
    }
   ],
   "source": [
    "li_content_outline = get_completion(li_outline)\n",
    "print(li_content_outline)"
   ]
  },
  {
   "cell_type": "markdown",
   "id": "6e5557d3",
   "metadata": {},
   "source": [
    "## Step 5: Draft Content for the 7 Areas"
   ]
  },
  {
   "cell_type": "code",
   "execution_count": 27,
   "id": "3caae1fd",
   "metadata": {},
   "outputs": [],
   "source": [
    "### Setup parameters for creating LinkedIn content\n",
    "\n",
    "content_list = [\n",
    "    \"Step-by-Step Guide\",\n",
    "    \"Inspirational Story\",\n",
    "    \"Deep Dive Analysis\",\n",
    "    \"Insightful Observation\",\n",
    "    \"Challenging the Norm\",\n",
    "    \"Comparative Analysis\",\n",
    "    \"Current vs. Future State\"\n",
    "]\n",
    "\n",
    "li_writing_prompt_template = f\"\"\"\n",
    "You are an experienced social media content creator who has extensive knowledge of the AI space.\n",
    "\n",
    "I will provide you with an outline post and you will write an original content piece suitable for LinkedIn.\n",
    "\n",
    "Keep the post on topic and conveying the key message while keeping it succinct, no more than 4-5 paragraphs, and at a 5th grade reading level.\n",
    "\n",
    "Here's the content outline for all of our posts:\n",
    "```{li_content_outline}```\n",
    "\n",
    "Now write a {content} post.\n",
    "\n",
    "Make sure to return plain text only without markup formatting. \n",
    "\"\"\""
   ]
  },
  {
   "cell_type": "code",
   "execution_count": 29,
   "id": "bce48acd",
   "metadata": {},
   "outputs": [],
   "source": [
    "### Create content for each of the content areas defined\n",
    "\n",
    "content_dict = {}\n",
    "\n",
    "for content in content_list:\n",
    "    li_writing_prompt = li_writing_prompt_template.format(outline=li_content_outline, content=content)\n",
    "    content_dict[content] = get_completion(li_writing_prompt)"
   ]
  },
  {
   "cell_type": "code",
   "execution_count": 30,
   "id": "1234fb3c",
   "metadata": {},
   "outputs": [
    {
     "data": {
      "text/html": [
       "<div>\n",
       "<style scoped>\n",
       "    .dataframe tbody tr th:only-of-type {\n",
       "        vertical-align: middle;\n",
       "    }\n",
       "\n",
       "    .dataframe tbody tr th {\n",
       "        vertical-align: top;\n",
       "    }\n",
       "\n",
       "    .dataframe thead th {\n",
       "        text-align: right;\n",
       "    }\n",
       "</style>\n",
       "<table border=\"1\" class=\"dataframe\">\n",
       "  <thead>\n",
       "    <tr style=\"text-align: right;\">\n",
       "      <th></th>\n",
       "      <th>Step-by-Step Guide</th>\n",
       "      <th>Inspirational Story</th>\n",
       "      <th>Deep Dive Analysis</th>\n",
       "      <th>Insightful Observation</th>\n",
       "      <th>Challenging the Norm</th>\n",
       "      <th>Comparative Analysis</th>\n",
       "      <th>Current vs. Future State</th>\n",
       "    </tr>\n",
       "  </thead>\n",
       "  <tbody>\n",
       "    <tr>\n",
       "      <th>Content</th>\n",
       "      <td>In today's digital age, prompt engineering has...</td>\n",
       "      <td>As we navigate the ever-evolving digital lands...</td>\n",
       "      <td>In today's fast-paced digital landscape, the i...</td>\n",
       "      <td>In today's fast-paced digital landscape, promp...</td>\n",
       "      <td>In today's rapidly evolving digital landscape,...</td>\n",
       "      <td>In today's rapidly evolving digital landscape,...</td>\n",
       "      <td>In today's rapidly evolving digital landscape,...</td>\n",
       "    </tr>\n",
       "  </tbody>\n",
       "</table>\n",
       "</div>"
      ],
      "text/plain": [
       "                                        Step-by-Step Guide  \\\n",
       "Content  In today's digital age, prompt engineering has...   \n",
       "\n",
       "                                       Inspirational Story  \\\n",
       "Content  As we navigate the ever-evolving digital lands...   \n",
       "\n",
       "                                        Deep Dive Analysis  \\\n",
       "Content  In today's fast-paced digital landscape, the i...   \n",
       "\n",
       "                                    Insightful Observation  \\\n",
       "Content  In today's fast-paced digital landscape, promp...   \n",
       "\n",
       "                                      Challenging the Norm  \\\n",
       "Content  In today's rapidly evolving digital landscape,...   \n",
       "\n",
       "                                      Comparative Analysis  \\\n",
       "Content  In today's rapidly evolving digital landscape,...   \n",
       "\n",
       "                                  Current vs. Future State  \n",
       "Content  In today's rapidly evolving digital landscape,...  "
      ]
     },
     "execution_count": 30,
     "metadata": {},
     "output_type": "execute_result"
    }
   ],
   "source": [
    "### Create a table to allow exporting of content\n",
    "df = pd.DataFrame.from_dict(content_dict, orient='index', columns=['Content'])\n",
    "\n",
    "# Transpose the DataFrame to have content types as column headings\n",
    "df = df.transpose()\n",
    "\n",
    "df.head()"
   ]
  },
  {
   "cell_type": "markdown",
   "id": "9a768833",
   "metadata": {},
   "source": [
    "## Step 6: Export the content"
   ]
  },
  {
   "cell_type": "code",
   "execution_count": 38,
   "id": "0930452e",
   "metadata": {},
   "outputs": [],
   "source": [
    "### Save the blog post as a html file\n",
    "\n",
    "html_content = markdown2.markdown(outline)\n",
    "\n",
    "### Generate filename with today's date\n",
    "\n",
    "today_date = datetime.now().strftime('%Y-%m-%d')\n",
    "blog_filename = f'../results/{today_date}_blog_post.html'\n",
    "\n",
    "### Save newsletter as HTML file\n",
    "\n",
    "with open(blog_filename, 'w') as file:\n",
    "    file.write(html_content)"
   ]
  },
  {
   "cell_type": "code",
   "execution_count": 41,
   "id": "19c40a61",
   "metadata": {},
   "outputs": [],
   "source": [
    "### Save the LinkedIn content as a csv file\n",
    "\n",
    "# Define file n\n",
    "linkedin_filename = f\"../results/{today_date}_linkedin_posts.csv\"\n",
    "\n",
    "# Save filtered_df\n",
    "df.to_csv(linkedin_filename, index=False)"
   ]
  }
 ],
 "metadata": {
  "kernelspec": {
   "display_name": "Python 3 (ipykernel)",
   "language": "python",
   "name": "python3"
  },
  "language_info": {
   "codemirror_mode": {
    "name": "ipython",
    "version": 3
   },
   "file_extension": ".py",
   "mimetype": "text/x-python",
   "name": "python",
   "nbconvert_exporter": "python",
   "pygments_lexer": "ipython3",
   "version": "3.11.3"
  }
 },
 "nbformat": 4,
 "nbformat_minor": 5
}
